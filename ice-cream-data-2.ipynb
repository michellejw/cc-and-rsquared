{
 "cells": [
  {
   "cell_type": "markdown",
   "metadata": {},
   "source": [
    "# Ice cream data \n",
    "\n",
    "The purpose of this notebook is to build a toy dataset for use with the cross correlation & r-squared statistical vignette notebook. The initial temperature and precipitation data were obtained via the National Weather Service from Raleigh, NC and show a historical average from 1981 - 2010. (https://www.ncdc.noaa.gov/cdo-web/datasets#GHCND)\n",
    "\n",
    "The goal is to use these average values to generate a (pretend) year's worth of ice cream sales data.... But we might also meander through some data exploration along the way, just for fun!"
   ]
  },
  {
   "cell_type": "code",
   "execution_count": 107,
   "metadata": {},
   "outputs": [],
   "source": [
    "import pandas as pd\n",
    "import numpy as np\n",
    "import matplotlib.pyplot as plt\n",
    "import hvplot.pandas\n",
    "import holoviews as hv\n",
    "from holoviews import opts"
   ]
  },
  {
   "cell_type": "code",
   "execution_count": 84,
   "metadata": {},
   "outputs": [],
   "source": [
    "data_url = \"https://michw.com/DATA/NC_temp_data.csv\"\n",
    "\n",
    "# Read ice cream data into a data frame\n",
    "df = pd.read_csv(data_url)\n",
    "\n",
    "# Make column names easier to work with\n",
    "#df.columns = ['Month','dayOfMonth','JulDay','NormalMaxTemp',\\\n",
    "#              'NormalMinTemp','MeanTemp','NormalPrecip']"
   ]
  },
  {
   "cell_type": "code",
   "execution_count": 85,
   "metadata": {},
   "outputs": [
    {
     "data": {
      "text/html": [
       "<div>\n",
       "<style scoped>\n",
       "    .dataframe tbody tr th:only-of-type {\n",
       "        vertical-align: middle;\n",
       "    }\n",
       "\n",
       "    .dataframe tbody tr th {\n",
       "        vertical-align: top;\n",
       "    }\n",
       "\n",
       "    .dataframe thead th {\n",
       "        text-align: right;\n",
       "    }\n",
       "</style>\n",
       "<table border=\"1\" class=\"dataframe\">\n",
       "  <thead>\n",
       "    <tr style=\"text-align: right;\">\n",
       "      <th></th>\n",
       "      <th>STATION</th>\n",
       "      <th>NAME</th>\n",
       "      <th>LATITUDE</th>\n",
       "      <th>LONGITUDE</th>\n",
       "      <th>ELEVATION</th>\n",
       "      <th>DATE</th>\n",
       "      <th>PRCP</th>\n",
       "      <th>PRCP_ATTRIBUTES</th>\n",
       "      <th>TAVG</th>\n",
       "      <th>TAVG_ATTRIBUTES</th>\n",
       "      <th>TMAX</th>\n",
       "      <th>TMAX_ATTRIBUTES</th>\n",
       "      <th>TMIN</th>\n",
       "      <th>TMIN_ATTRIBUTES</th>\n",
       "    </tr>\n",
       "  </thead>\n",
       "  <tbody>\n",
       "    <tr>\n",
       "      <th>0</th>\n",
       "      <td>USW00013722</td>\n",
       "      <td>RALEIGH AIRPORT, NC US</td>\n",
       "      <td>35.8923</td>\n",
       "      <td>-78.7819</td>\n",
       "      <td>126.8</td>\n",
       "      <td>2018-01-01</td>\n",
       "      <td>0.00</td>\n",
       "      <td>,,W,2400</td>\n",
       "      <td>22</td>\n",
       "      <td>H,,S</td>\n",
       "      <td>28</td>\n",
       "      <td>,,W</td>\n",
       "      <td>13</td>\n",
       "      <td>,,W</td>\n",
       "    </tr>\n",
       "    <tr>\n",
       "      <th>1</th>\n",
       "      <td>USW00013722</td>\n",
       "      <td>RALEIGH AIRPORT, NC US</td>\n",
       "      <td>35.8923</td>\n",
       "      <td>-78.7819</td>\n",
       "      <td>126.8</td>\n",
       "      <td>2018-01-02</td>\n",
       "      <td>0.00</td>\n",
       "      <td>,,W,2400</td>\n",
       "      <td>20</td>\n",
       "      <td>H,,S</td>\n",
       "      <td>32</td>\n",
       "      <td>,,W</td>\n",
       "      <td>12</td>\n",
       "      <td>,,W</td>\n",
       "    </tr>\n",
       "    <tr>\n",
       "      <th>2</th>\n",
       "      <td>USW00013722</td>\n",
       "      <td>RALEIGH AIRPORT, NC US</td>\n",
       "      <td>35.8923</td>\n",
       "      <td>-78.7819</td>\n",
       "      <td>126.8</td>\n",
       "      <td>2018-01-03</td>\n",
       "      <td>0.06</td>\n",
       "      <td>,,W,2400</td>\n",
       "      <td>21</td>\n",
       "      <td>H,,S</td>\n",
       "      <td>32</td>\n",
       "      <td>,,W</td>\n",
       "      <td>9</td>\n",
       "      <td>,,W</td>\n",
       "    </tr>\n",
       "  </tbody>\n",
       "</table>\n",
       "</div>"
      ],
      "text/plain": [
       "       STATION                    NAME  LATITUDE  LONGITUDE  ELEVATION  \\\n",
       "0  USW00013722  RALEIGH AIRPORT, NC US   35.8923   -78.7819      126.8   \n",
       "1  USW00013722  RALEIGH AIRPORT, NC US   35.8923   -78.7819      126.8   \n",
       "2  USW00013722  RALEIGH AIRPORT, NC US   35.8923   -78.7819      126.8   \n",
       "\n",
       "         DATE  PRCP PRCP_ATTRIBUTES  TAVG TAVG_ATTRIBUTES  TMAX  \\\n",
       "0  2018-01-01  0.00        ,,W,2400    22            H,,S    28   \n",
       "1  2018-01-02  0.00        ,,W,2400    20            H,,S    32   \n",
       "2  2018-01-03  0.06        ,,W,2400    21            H,,S    32   \n",
       "\n",
       "  TMAX_ATTRIBUTES  TMIN TMIN_ATTRIBUTES  \n",
       "0             ,,W    13             ,,W  \n",
       "1             ,,W    12             ,,W  \n",
       "2             ,,W     9             ,,W  "
      ]
     },
     "execution_count": 85,
     "metadata": {},
     "output_type": "execute_result"
    }
   ],
   "source": [
    "# Here's a peek at the first few days of data\n",
    "df.head(3) # The first three rows"
   ]
  },
  {
   "cell_type": "code",
   "execution_count": 86,
   "metadata": {},
   "outputs": [
    {
     "data": {
      "text/html": [
       "<div>\n",
       "<style scoped>\n",
       "    .dataframe tbody tr th:only-of-type {\n",
       "        vertical-align: middle;\n",
       "    }\n",
       "\n",
       "    .dataframe tbody tr th {\n",
       "        vertical-align: top;\n",
       "    }\n",
       "\n",
       "    .dataframe thead th {\n",
       "        text-align: right;\n",
       "    }\n",
       "</style>\n",
       "<table border=\"1\" class=\"dataframe\">\n",
       "  <thead>\n",
       "    <tr style=\"text-align: right;\">\n",
       "      <th></th>\n",
       "      <th>NAME</th>\n",
       "      <th>LATITUDE</th>\n",
       "      <th>LONGITUDE</th>\n",
       "      <th>ELEVATION</th>\n",
       "      <th>DATE</th>\n",
       "      <th>PRCP</th>\n",
       "      <th>TAVG</th>\n",
       "      <th>TMAX</th>\n",
       "      <th>TMIN</th>\n",
       "    </tr>\n",
       "  </thead>\n",
       "  <tbody>\n",
       "    <tr>\n",
       "      <th>362</th>\n",
       "      <td>RALEIGH AIRPORT, NC US</td>\n",
       "      <td>35.8923</td>\n",
       "      <td>-78.7819</td>\n",
       "      <td>126.8</td>\n",
       "      <td>2018-12-29</td>\n",
       "      <td>0.00</td>\n",
       "      <td>58</td>\n",
       "      <td>65</td>\n",
       "      <td>45</td>\n",
       "    </tr>\n",
       "    <tr>\n",
       "      <th>363</th>\n",
       "      <td>RALEIGH AIRPORT, NC US</td>\n",
       "      <td>35.8923</td>\n",
       "      <td>-78.7819</td>\n",
       "      <td>126.8</td>\n",
       "      <td>2018-12-30</td>\n",
       "      <td>0.01</td>\n",
       "      <td>50</td>\n",
       "      <td>59</td>\n",
       "      <td>45</td>\n",
       "    </tr>\n",
       "    <tr>\n",
       "      <th>364</th>\n",
       "      <td>RALEIGH AIRPORT, NC US</td>\n",
       "      <td>35.8923</td>\n",
       "      <td>-78.7819</td>\n",
       "      <td>126.8</td>\n",
       "      <td>2018-12-31</td>\n",
       "      <td>0.13</td>\n",
       "      <td>53</td>\n",
       "      <td>67</td>\n",
       "      <td>47</td>\n",
       "    </tr>\n",
       "  </tbody>\n",
       "</table>\n",
       "</div>"
      ],
      "text/plain": [
       "                       NAME  LATITUDE  LONGITUDE  ELEVATION       DATE  PRCP  \\\n",
       "362  RALEIGH AIRPORT, NC US   35.8923   -78.7819      126.8 2018-12-29  0.00   \n",
       "363  RALEIGH AIRPORT, NC US   35.8923   -78.7819      126.8 2018-12-30  0.01   \n",
       "364  RALEIGH AIRPORT, NC US   35.8923   -78.7819      126.8 2018-12-31  0.13   \n",
       "\n",
       "     TAVG  TMAX  TMIN  \n",
       "362    58    65    45  \n",
       "363    50    59    45  \n",
       "364    53    67    47  "
      ]
     },
     "execution_count": 86,
     "metadata": {},
     "output_type": "execute_result"
    }
   ],
   "source": [
    "# Let's remove some of the less-useful columns so our dataset is easier to look at\n",
    "df = df.drop(columns=['STATION','PRCP_ATTRIBUTES','TAVG_ATTRIBUTES','TMAX_ATTRIBUTES','TMIN_ATTRIBUTES'])\n",
    "\n",
    "# Let's also convert the DATE column to the datetime format that pandas understands and uses\n",
    "df['DATE']=pd.to_datetime(df['DATE'])\n",
    "\n",
    "df.tail(3) # The last three rows"
   ]
  },
  {
   "cell_type": "code",
   "execution_count": 87,
   "metadata": {},
   "outputs": [
    {
     "data": {
      "text/plain": [
       "NAME                 object\n",
       "LATITUDE            float64\n",
       "LONGITUDE           float64\n",
       "ELEVATION           float64\n",
       "DATE         datetime64[ns]\n",
       "PRCP                float64\n",
       "TAVG                  int64\n",
       "TMAX                  int64\n",
       "TMIN                  int64\n",
       "dtype: object"
      ]
     },
     "execution_count": 87,
     "metadata": {},
     "output_type": "execute_result"
    }
   ],
   "source": [
    "# We can also look at data type for each of the columns. \n",
    "# Note that our DATE column is in \"datetime64\" format.\n",
    "df.dtypes"
   ]
  },
  {
   "cell_type": "code",
   "execution_count": 117,
   "metadata": {},
   "outputs": [
    {
     "data": {
      "application/javascript": [
       "\n",
       "// Ugly hack - see HoloViews #2574 for more information\n",
       "if (!(document.getElementById('9057')) && !(document.getElementById('_anim_imgNone'))) {\n",
       "  console.log(\"Creating DOM nodes dynamically for assumed nbconvert export. To generate clean HTML output set HV_DOC_HTML as an environment variable.\")\n",
       "  var htmlObject = document.createElement('div');\n",
       "  htmlObject.innerHTML = `<div id='9057' style='display: table; margin: 0 auto;'>\n",
       "\n",
       "\n",
       "\n",
       "\n",
       "\n",
       "  <div class=\"bk-root\" id=\"b1fc8980-80d5-484c-992d-f76a08e03937\" data-root-id=\"9057\"></div>\n",
       "</div>`;\n",
       "  var scriptTags = document.getElementsByTagName('script');\n",
       "  var parentTag = scriptTags[scriptTags.length-1].parentNode;\n",
       "  parentTag.append(htmlObject)\n",
       "}\n",
       "(function(root) {\n",
       "  function embed_document(root) {\n",
       "    \n",
       "  var docs_json = {\"7ef3f1b0-e47c-4be9-ba1e-5aa141425961\":{\"roots\":{\"references\":[{\"attributes\":{\"below\":[{\"id\":\"9065\",\"type\":\"DatetimeAxis\"}],\"left\":[{\"id\":\"9070\",\"type\":\"LinearAxis\"}],\"min_border_bottom\":10,\"min_border_left\":10,\"min_border_right\":10,\"min_border_top\":10,\"plot_height\":300,\"plot_width\":700,\"renderers\":[{\"id\":\"9065\",\"type\":\"DatetimeAxis\"},{\"id\":\"9069\",\"type\":\"Grid\"},{\"id\":\"9070\",\"type\":\"LinearAxis\"},{\"id\":\"9074\",\"type\":\"Grid\"},{\"id\":\"9085\",\"type\":\"BoxAnnotation\"},{\"id\":\"9100\",\"type\":\"GlyphRenderer\"},{\"id\":\"9108\",\"type\":\"GlyphRenderer\"}],\"title\":{\"id\":\"9056\",\"type\":\"Title\"},\"toolbar\":{\"id\":\"9080\",\"type\":\"Toolbar\"},\"x_range\":{\"id\":\"9052\",\"type\":\"Range1d\"},\"x_scale\":{\"id\":\"9061\",\"type\":\"LinearScale\"},\"y_range\":{\"id\":\"9053\",\"type\":\"Range1d\"},\"y_scale\":{\"id\":\"9063\",\"type\":\"LinearScale\"}},\"id\":\"9057\",\"subtype\":\"Figure\",\"type\":\"Plot\"},{\"attributes\":{},\"id\":\"9095\",\"type\":\"Selection\"},{\"attributes\":{},\"id\":\"9071\",\"type\":\"BasicTicker\"},{\"attributes\":{\"base\":24,\"mantissas\":[1,2,4,6,8,12],\"max_interval\":43200000.0,\"min_interval\":3600000.0,\"num_minor_ticks\":0},\"id\":\"9117\",\"type\":\"AdaptiveTicker\"},{\"attributes\":{\"data_source\":{\"id\":\"9102\",\"type\":\"ColumnDataSource\"},\"glyph\":{\"id\":\"9105\",\"type\":\"Line\"},\"hover_glyph\":null,\"muted_glyph\":{\"id\":\"9107\",\"type\":\"Line\"},\"nonselection_glyph\":{\"id\":\"9106\",\"type\":\"Line\"},\"selection_glyph\":null,\"view\":{\"id\":\"9109\",\"type\":\"CDSView\"}},\"id\":\"9108\",\"type\":\"GlyphRenderer\"},{\"attributes\":{},\"id\":\"9075\",\"type\":\"SaveTool\"},{\"attributes\":{\"mantissas\":[1,2,5],\"max_interval\":500.0,\"num_minor_ticks\":0},\"id\":\"9115\",\"type\":\"AdaptiveTicker\"},{\"attributes\":{\"source\":{\"id\":\"9102\",\"type\":\"ColumnDataSource\"}},\"id\":\"9109\",\"type\":\"CDSView\"},{\"attributes\":{\"fill_alpha\":0.2,\"fill_color\":\"#1f77b4\",\"line_alpha\":0.2,\"line_color\":\"black\",\"x\":{\"field\":\"x\"},\"y\":{\"field\":\"y\"}},\"id\":\"9099\",\"type\":\"Patch\"},{\"attributes\":{\"line_alpha\":0.2,\"line_color\":\"#1f77b4\",\"line_width\":2,\"x\":{\"field\":\"DATE\"},\"y\":{\"field\":\"TAVG\"}},\"id\":\"9107\",\"type\":\"Line\"},{\"attributes\":{\"callback\":null,\"end\":1546214400000.0,\"reset_end\":1546214400000.0,\"reset_start\":1514764800000.0,\"start\":1514764800000.0,\"tags\":[[[\"DATE\",\"DATE\",null]]]},\"id\":\"9052\",\"type\":\"Range1d\"},{\"attributes\":{\"bottom_units\":\"screen\",\"fill_alpha\":{\"value\":0.5},\"fill_color\":{\"value\":\"lightgrey\"},\"left_units\":\"screen\",\"level\":\"overlay\",\"line_alpha\":{\"value\":1.0},\"line_color\":{\"value\":\"black\"},\"line_dash\":[4,4],\"line_width\":{\"value\":2},\"plot\":null,\"render_mode\":\"css\",\"right_units\":\"screen\",\"top_units\":\"screen\"},\"id\":\"9085\",\"type\":\"BoxAnnotation\"},{\"attributes\":{},\"id\":\"9092\",\"type\":\"BasicTickFormatter\"},{\"attributes\":{\"line_color\":\"#1f77b4\",\"line_width\":2,\"x\":{\"field\":\"DATE\"},\"y\":{\"field\":\"TAVG\"}},\"id\":\"9105\",\"type\":\"Line\"},{\"attributes\":{},\"id\":\"9079\",\"type\":\"ResetTool\"},{\"attributes\":{\"num_minor_ticks\":5,\"tickers\":[{\"id\":\"9115\",\"type\":\"AdaptiveTicker\"},{\"id\":\"9116\",\"type\":\"AdaptiveTicker\"},{\"id\":\"9117\",\"type\":\"AdaptiveTicker\"},{\"id\":\"9118\",\"type\":\"DaysTicker\"},{\"id\":\"9119\",\"type\":\"DaysTicker\"},{\"id\":\"9120\",\"type\":\"DaysTicker\"},{\"id\":\"9121\",\"type\":\"DaysTicker\"},{\"id\":\"9122\",\"type\":\"MonthsTicker\"},{\"id\":\"9123\",\"type\":\"MonthsTicker\"},{\"id\":\"9124\",\"type\":\"MonthsTicker\"},{\"id\":\"9125\",\"type\":\"MonthsTicker\"},{\"id\":\"9126\",\"type\":\"YearsTicker\"}]},\"id\":\"9066\",\"type\":\"DatetimeTicker\"},{\"attributes\":{\"days\":[1,4,7,10,13,16,19,22,25,28]},\"id\":\"9119\",\"type\":\"DaysTicker\"},{\"attributes\":{},\"id\":\"9061\",\"type\":\"LinearScale\"},{\"attributes\":{\"callback\":null,\"renderers\":[{\"id\":\"9100\",\"type\":\"GlyphRenderer\"}],\"tooltips\":[[\"DATE\",\"@{DATE}\"],[\"TMIN\",\"@{TMIN}\"],[\"TMAX\",\"@{TMAX}\"]]},\"id\":\"9054\",\"type\":\"HoverTool\"},{\"attributes\":{\"axis_label\":\"Date\",\"bounds\":\"auto\",\"formatter\":{\"id\":\"9090\",\"type\":\"DatetimeTickFormatter\"},\"major_label_orientation\":\"horizontal\",\"plot\":{\"id\":\"9057\",\"subtype\":\"Figure\",\"type\":\"Plot\"},\"ticker\":{\"id\":\"9066\",\"type\":\"DatetimeTicker\"}},\"id\":\"9065\",\"type\":\"DatetimeAxis\"},{\"attributes\":{\"fill_alpha\":0.2,\"fill_color\":\"#1f77b4\",\"line_alpha\":0.2,\"x\":{\"field\":\"x\"},\"y\":{\"field\":\"y\"}},\"id\":\"9097\",\"type\":\"Patch\"},{\"attributes\":{\"line_alpha\":0.1,\"line_color\":\"#1f77b4\",\"line_width\":2,\"x\":{\"field\":\"DATE\"},\"y\":{\"field\":\"TAVG\"}},\"id\":\"9106\",\"type\":\"Line\"},{\"attributes\":{},\"id\":\"9126\",\"type\":\"YearsTicker\"},{\"attributes\":{},\"id\":\"9090\",\"type\":\"DatetimeTickFormatter\"},{\"attributes\":{},\"id\":\"9063\",\"type\":\"LinearScale\"},{\"attributes\":{\"fill_alpha\":0.2,\"fill_color\":\"#1f77b4\",\"line_alpha\":0.2,\"line_color\":\"black\",\"x\":{\"field\":\"x\"},\"y\":{\"field\":\"y\"}},\"id\":\"9098\",\"type\":\"Patch\"},{\"attributes\":{\"days\":[1,2,3,4,5,6,7,8,9,10,11,12,13,14,15,16,17,18,19,20,21,22,23,24,25,26,27,28,29,30,31]},\"id\":\"9118\",\"type\":\"DaysTicker\"},{\"attributes\":{\"months\":[0,4,8]},\"id\":\"9124\",\"type\":\"MonthsTicker\"},{\"attributes\":{\"days\":[1,15]},\"id\":\"9121\",\"type\":\"DaysTicker\"},{\"attributes\":{\"days\":[1,8,15,22]},\"id\":\"9120\",\"type\":\"DaysTicker\"},{\"attributes\":{\"plot\":{\"id\":\"9057\",\"subtype\":\"Figure\",\"type\":\"Plot\"},\"ticker\":{\"id\":\"9066\",\"type\":\"DatetimeTicker\"}},\"id\":\"9069\",\"type\":\"Grid\"},{\"attributes\":{\"dimension\":1,\"plot\":{\"id\":\"9057\",\"subtype\":\"Figure\",\"type\":\"Plot\"},\"ticker\":{\"id\":\"9071\",\"type\":\"BasicTicker\"}},\"id\":\"9074\",\"type\":\"Grid\"},{\"attributes\":{\"callback\":null,\"renderers\":[{\"id\":\"9108\",\"type\":\"GlyphRenderer\"}],\"tooltips\":[[\"DATE\",\"@{DATE_dt_strings}\"],[\"TAVG\",\"@{TAVG}\"]]},\"id\":\"9055\",\"type\":\"HoverTool\"},{\"attributes\":{},\"id\":\"9076\",\"type\":\"PanTool\"},{\"attributes\":{\"source\":{\"id\":\"9094\",\"type\":\"ColumnDataSource\"}},\"id\":\"9101\",\"type\":\"CDSView\"},{\"attributes\":{\"months\":[0,1,2,3,4,5,6,7,8,9,10,11]},\"id\":\"9122\",\"type\":\"MonthsTicker\"},{\"attributes\":{},\"id\":\"9128\",\"type\":\"UnionRenderers\"},{\"attributes\":{\"overlay\":{\"id\":\"9085\",\"type\":\"BoxAnnotation\"}},\"id\":\"9078\",\"type\":\"BoxZoomTool\"},{\"attributes\":{\"callback\":null,\"end\":98.0,\"reset_end\":98.0,\"reset_start\":4.0,\"start\":4.0,\"tags\":[[[\"TMIN\",\"TMIN\",null]]]},\"id\":\"9053\",\"type\":\"Range1d\"},{\"attributes\":{\"callback\":null,\"data\":{\"DATE\":{\"__ndarray__\":\"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\",\"dtype\":\"float64\",\"shape\":[365]},\"DATE_dt_strings\":[\"2018-01-01 00:00:00\",\"2018-01-02 00:00:00\",\"2018-01-03 00:00:00\",\"2018-01-04 00:00:00\",\"2018-01-05 00:00:00\",\"2018-01-06 00:00:00\",\"2018-01-07 00:00:00\",\"2018-01-08 00:00:00\",\"2018-01-09 00:00:00\",\"2018-01-10 00:00:00\",\"2018-01-11 00:00:00\",\"2018-01-12 00:00:00\",\"2018-01-13 00:00:00\",\"2018-01-14 00:00:00\",\"2018-01-15 00:00:00\",\"2018-01-16 00:00:00\",\"2018-01-17 00:00:00\",\"2018-01-18 00:00:00\",\"2018-01-19 00:00:00\",\"2018-01-20 00:00:00\",\"2018-01-21 00:00:00\",\"2018-01-22 00:00:00\",\"2018-01-23 00:00:00\",\"2018-01-24 00:00:00\",\"2018-01-25 00:00:00\",\"2018-01-26 00:00:00\",\"2018-01-27 00:00:00\",\"2018-01-28 00:00:00\",\"2018-01-29 00:00:00\",\"2018-01-30 00:00:00\",\"2018-01-31 00:00:00\",\"2018-02-01 00:00:00\",\"2018-02-02 00:00:00\",\"2018-02-03 00:00:00\",\"2018-02-04 00:00:00\",\"2018-02-05 00:00:00\",\"2018-02-06 00:00:00\",\"2018-02-07 00:00:00\",\"2018-02-08 00:00:00\",\"2018-02-09 00:00:00\",\"2018-02-10 00:00:00\",\"2018-02-11 00:00:00\",\"2018-02-12 00:00:00\",\"2018-02-13 00:00:00\",\"2018-02-14 00:00:00\",\"2018-02-15 00:00:00\",\"2018-02-16 00:00:00\",\"2018-02-17 00:00:00\",\"2018-02-18 00:00:00\",\"2018-02-19 00:00:00\",\"2018-02-20 00:00:00\",\"2018-02-21 00:00:00\",\"2018-02-22 00:00:00\",\"2018-02-23 00:00:00\",\"2018-02-24 00:00:00\",\"2018-02-25 00:00:00\",\"2018-02-26 00:00:00\",\"2018-02-27 00:00:00\",\"2018-02-28 00:00:00\",\"2018-03-01 00:00:00\",\"2018-03-02 00:00:00\",\"2018-03-03 00:00:00\",\"2018-03-04 00:00:00\",\"2018-03-05 00:00:00\",\"2018-03-06 00:00:00\",\"2018-03-07 00:00:00\",\"2018-03-08 00:00:00\",\"2018-03-09 00:00:00\",\"2018-03-10 00:00:00\",\"2018-03-11 00:00:00\",\"2018-03-12 00:00:00\",\"2018-03-13 00:00:00\",\"2018-03-14 00:00:00\",\"2018-03-15 00:00:00\",\"2018-03-16 00:00:00\",\"2018-03-17 00:00:00\",\"2018-03-18 00:00:00\",\"2018-03-19 00:00:00\",\"2018-03-20 00:00:00\",\"2018-03-21 00:00:00\",\"2018-03-22 00:00:00\",\"2018-03-23 00:00:00\",\"2018-03-24 00:00:00\",\"2018-03-25 00:00:00\",\"2018-03-26 00:00:00\",\"2018-03-27 00:00:00\",\"2018-03-28 00:00:00\",\"2018-03-29 00:00:00\",\"2018-03-30 00:00:00\",\"2018-03-31 00:00:00\",\"2018-04-01 00:00:00\",\"2018-04-02 00:00:00\",\"2018-04-03 00:00:00\",\"2018-04-04 00:00:00\",\"2018-04-05 00:00:00\",\"2018-04-06 00:00:00\",\"2018-04-07 00:00:00\",\"2018-04-08 00:00:00\",\"2018-04-09 00:00:00\",\"2018-04-10 00:00:00\",\"2018-04-11 00:00:00\",\"2018-04-12 00:00:00\",\"2018-04-13 00:00:00\",\"2018-04-14 00:00:00\",\"2018-04-15 00:00:00\",\"2018-04-16 00:00:00\",\"2018-04-17 00:00:00\",\"2018-04-18 00:00:00\",\"2018-04-19 00:00:00\",\"2018-04-20 00:00:00\",\"2018-04-21 00:00:00\",\"2018-04-22 00:00:00\",\"2018-04-23 00:00:00\",\"2018-04-24 00:00:00\",\"2018-04-25 00:00:00\",\"2018-04-26 00:00:00\",\"2018-04-27 00:00:00\",\"2018-04-28 00:00:00\",\"2018-04-29 00:00:00\",\"2018-04-30 00:00:00\",\"2018-05-01 00:00:00\",\"2018-05-02 00:00:00\",\"2018-05-03 00:00:00\",\"2018-05-04 00:00:00\",\"2018-05-05 00:00:00\",\"2018-05-06 00:00:00\",\"2018-05-07 00:00:00\",\"2018-05-08 00:00:00\",\"2018-05-09 00:00:00\",\"2018-05-10 00:00:00\",\"2018-05-11 00:00:00\",\"2018-05-12 00:00:00\",\"2018-05-13 00:00:00\",\"2018-05-14 00:00:00\",\"2018-05-15 00:00:00\",\"2018-05-16 00:00:00\",\"2018-05-17 00:00:00\",\"2018-05-18 00:00:00\",\"2018-05-19 00:00:00\",\"2018-05-20 00:00:00\",\"2018-05-21 00:00:00\",\"2018-05-22 00:00:00\",\"2018-05-23 00:00:00\",\"2018-05-24 00:00:00\",\"2018-05-25 00:00:00\",\"2018-05-26 00:00:00\",\"2018-05-27 00:00:00\",\"2018-05-28 00:00:00\",\"2018-05-29 00:00:00\",\"2018-05-30 00:00:00\",\"2018-05-31 00:00:00\",\"2018-06-01 00:00:00\",\"2018-06-02 00:00:00\",\"2018-06-03 00:00:00\",\"2018-06-04 00:00:00\",\"2018-06-05 00:00:00\",\"2018-06-06 00:00:00\",\"2018-06-07 00:00:00\",\"2018-06-08 00:00:00\",\"2018-06-09 00:00:00\",\"2018-06-10 00:00:00\",\"2018-06-11 00:00:00\",\"2018-06-12 00:00:00\",\"2018-06-13 00:00:00\",\"2018-06-14 00:00:00\",\"2018-06-15 00:00:00\",\"2018-06-16 00:00:00\",\"2018-06-17 00:00:00\",\"2018-06-18 00:00:00\",\"2018-06-19 00:00:00\",\"2018-06-20 00:00:00\",\"2018-06-21 00:00:00\",\"2018-06-22 00:00:00\",\"2018-06-23 00:00:00\",\"2018-06-24 00:00:00\",\"2018-06-25 00:00:00\",\"2018-06-26 00:00:00\",\"2018-06-27 00:00:00\",\"2018-06-28 00:00:00\",\"2018-06-29 00:00:00\",\"2018-06-30 00:00:00\",\"2018-07-01 00:00:00\",\"2018-07-02 00:00:00\",\"2018-07-03 00:00:00\",\"2018-07-04 00:00:00\",\"2018-07-05 00:00:00\",\"2018-07-06 00:00:00\",\"2018-07-07 00:00:00\",\"2018-07-08 00:00:00\",\"2018-07-09 00:00:00\",\"2018-07-10 00:00:00\",\"2018-07-11 00:00:00\",\"2018-07-12 00:00:00\",\"2018-07-13 00:00:00\",\"2018-07-14 00:00:00\",\"2018-07-15 00:00:00\",\"2018-07-16 00:00:00\",\"2018-07-17 00:00:00\",\"2018-07-18 00:00:00\",\"2018-07-19 00:00:00\",\"2018-07-20 00:00:00\",\"2018-07-21 00:00:00\",\"2018-07-22 00:00:00\",\"2018-07-23 00:00:00\",\"2018-07-24 00:00:00\",\"2018-07-25 00:00:00\",\"2018-07-26 00:00:00\",\"2018-07-27 00:00:00\",\"2018-07-28 00:00:00\",\"2018-07-29 00:00:00\",\"2018-07-30 00:00:00\",\"2018-07-31 00:00:00\",\"2018-08-01 00:00:00\",\"2018-08-02 00:00:00\",\"2018-08-03 00:00:00\",\"2018-08-04 00:00:00\",\"2018-08-05 00:00:00\",\"2018-08-06 00:00:00\",\"2018-08-07 00:00:00\",\"2018-08-08 00:00:00\",\"2018-08-09 00:00:00\",\"2018-08-10 00:00:00\",\"2018-08-11 00:00:00\",\"2018-08-12 00:00:00\",\"2018-08-13 00:00:00\",\"2018-08-14 00:00:00\",\"2018-08-15 00:00:00\",\"2018-08-16 00:00:00\",\"2018-08-17 00:00:00\",\"2018-08-18 00:00:00\",\"2018-08-19 00:00:00\",\"2018-08-20 00:00:00\",\"2018-08-21 00:00:00\",\"2018-08-22 00:00:00\",\"2018-08-23 00:00:00\",\"2018-08-24 00:00:00\",\"2018-08-25 00:00:00\",\"2018-08-26 00:00:00\",\"2018-08-27 00:00:00\",\"2018-08-28 00:00:00\",\"2018-08-29 00:00:00\",\"2018-08-30 00:00:00\",\"2018-08-31 00:00:00\",\"2018-09-01 00:00:00\",\"2018-09-02 00:00:00\",\"2018-09-03 00:00:00\",\"2018-09-04 00:00:00\",\"2018-09-05 00:00:00\",\"2018-09-06 00:00:00\",\"2018-09-07 00:00:00\",\"2018-09-08 00:00:00\",\"2018-09-09 00:00:00\",\"2018-09-10 00:00:00\",\"2018-09-11 00:00:00\",\"2018-09-12 00:00:00\",\"2018-09-13 00:00:00\",\"2018-09-14 00:00:00\",\"2018-09-15 00:00:00\",\"2018-09-16 00:00:00\",\"2018-09-17 00:00:00\",\"2018-09-18 00:00:00\",\"2018-09-19 00:00:00\",\"2018-09-20 00:00:00\",\"2018-09-21 00:00:00\",\"2018-09-22 00:00:00\",\"2018-09-23 00:00:00\",\"2018-09-24 00:00:00\",\"2018-09-25 00:00:00\",\"2018-09-26 00:00:00\",\"2018-09-27 00:00:00\",\"2018-09-28 00:00:00\",\"2018-09-29 00:00:00\",\"2018-09-30 00:00:00\",\"2018-10-01 00:00:00\",\"2018-10-02 00:00:00\",\"2018-10-03 00:00:00\",\"2018-10-04 00:00:00\",\"2018-10-05 00:00:00\",\"2018-10-06 00:00:00\",\"2018-10-07 00:00:00\",\"2018-10-08 00:00:00\",\"2018-10-09 00:00:00\",\"2018-10-10 00:00:00\",\"2018-10-11 00:00:00\",\"2018-10-12 00:00:00\",\"2018-10-13 00:00:00\",\"2018-10-14 00:00:00\",\"2018-10-15 00:00:00\",\"2018-10-16 00:00:00\",\"2018-10-17 00:00:00\",\"2018-10-18 00:00:00\",\"2018-10-19 00:00:00\",\"2018-10-20 00:00:00\",\"2018-10-21 00:00:00\",\"2018-10-22 00:00:00\",\"2018-10-23 00:00:00\",\"2018-10-24 00:00:00\",\"2018-10-25 00:00:00\",\"2018-10-26 00:00:00\",\"2018-10-27 00:00:00\",\"2018-10-28 00:00:00\",\"2018-10-29 00:00:00\",\"2018-10-30 00:00:00\",\"2018-10-31 00:00:00\",\"2018-11-01 00:00:00\",\"2018-11-02 00:00:00\",\"2018-11-03 00:00:00\",\"2018-11-04 00:00:00\",\"2018-11-05 00:00:00\",\"2018-11-06 00:00:00\",\"2018-11-07 00:00:00\",\"2018-11-08 00:00:00\",\"2018-11-09 00:00:00\",\"2018-11-10 00:00:00\",\"2018-11-11 00:00:00\",\"2018-11-12 00:00:00\",\"2018-11-13 00:00:00\",\"2018-11-14 00:00:00\",\"2018-11-15 00:00:00\",\"2018-11-16 00:00:00\",\"2018-11-17 00:00:00\",\"2018-11-18 00:00:00\",\"2018-11-19 00:00:00\",\"2018-11-20 00:00:00\",\"2018-11-21 00:00:00\",\"2018-11-22 00:00:00\",\"2018-11-23 00:00:00\",\"2018-11-24 00:00:00\",\"2018-11-25 00:00:00\",\"2018-11-26 00:00:00\",\"2018-11-27 00:00:00\",\"2018-11-28 00:00:00\",\"2018-11-29 00:00:00\",\"2018-11-30 00:00:00\",\"2018-12-01 00:00:00\",\"2018-12-02 00:00:00\",\"2018-12-03 00:00:00\",\"2018-12-04 00:00:00\",\"2018-12-05 00:00:00\",\"2018-12-06 00:00:00\",\"2018-12-07 00:00:00\",\"2018-12-08 00:00:00\",\"2018-12-09 00:00:00\",\"2018-12-10 00:00:00\",\"2018-12-11 00:00:00\",\"2018-12-12 00:00:00\",\"2018-12-13 00:00:00\",\"2018-12-14 00:00:00\",\"2018-12-15 00:00:00\",\"2018-12-16 00:00:00\",\"2018-12-17 00:00:00\",\"2018-12-18 00:00:00\",\"2018-12-19 00:00:00\",\"2018-12-20 00:00:00\",\"2018-12-21 00:00:00\",\"2018-12-22 00:00:00\",\"2018-12-23 00:00:00\",\"2018-12-24 00:00:00\",\"2018-12-25 00:00:00\",\"2018-12-26 00:00:00\",\"2018-12-27 00:00:00\",\"2018-12-28 00:00:00\",\"2018-12-29 00:00:00\",\"2018-12-30 00:00:00\",\"2018-12-31 00:00:00\"],\"TAVG\":[22,20,21,26,21,19,16,28,44,50,52,66,50,29,25,31,34,23,30,39,47,49,62,47,38,38,47,57,49,35,31,43,45,28,40,40,42,54,46,41,51,67,61,42,44,61,68,49,47,45,56,68,68,61,65,67,59,47,48,52,52,45,45,41,40,43,38,38,45,45,37,38,39,42,55,50,52,52,52,37,42,42,39,40,42,41,55,66,68,54,57,66,57,69,49,56,54,40,47,49,50,58,66,70,72,57,47,58,69,50,53,58,59,59,62,60,64,63,60,54,63,68,71,72,72,71,66,64,64,71,72,80,80,80,78,75,72,75,71,74,75,73,77,76,74,75,77,73,74,76,76,79,77,77,74,71,72,72,77,79,79,76,66,74,79,79,78,81,84,85,83,81,82,83,83,80,74,73,79,80,83,84,85,85,82,81,78,73,72,72,75,81,79,78,78,80,83,82,78,78,77,77,76,76,77,76,78,82,79,77,76,78,78,78,73,77,80,80,81,80,77,80,80,78,74,74,78,79,81,80,77,76,78,78,73,68,72,73,80,81,81,83,80,79,76,78,80,80,81,81,79,74,74,76,77,76,76,75,74,78,78,76,76,76,76,73,68,74,75,74,73,70,71,70,71,73,76,77,74,74,76,74,74,75,63,58,55,66,71,66,56,52,61,53,45,52,51,45,45,51,52,56,49,54,63,68,57,49,58,65,60,58,53,49,38,41,48,46,40,42,43,46,51,53,43,41,36,39,47,52,41,34,35,51,56,62,62,48,42,35,40,38,34,33,34,34,38,41,47,50,49,44,38,49,62,48,41,47,37,38,40,58,58,50,53]},\"selected\":{\"id\":\"9103\",\"type\":\"Selection\"},\"selection_policy\":{\"id\":\"9130\",\"type\":\"UnionRenderers\"}},\"id\":\"9102\",\"type\":\"ColumnDataSource\"},{\"attributes\":{},\"id\":\"9103\",\"type\":\"Selection\"},{\"attributes\":{\"months\":[0,6]},\"id\":\"9125\",\"type\":\"MonthsTicker\"},{\"attributes\":{\"months\":[0,2,4,6,8,10]},\"id\":\"9123\",\"type\":\"MonthsTicker\"},{\"attributes\":{\"active_drag\":\"auto\",\"active_inspect\":\"auto\",\"active_multi\":null,\"active_scroll\":\"auto\",\"active_tap\":\"auto\",\"tools\":[{\"id\":\"9054\",\"type\":\"HoverTool\"},{\"id\":\"9055\",\"type\":\"HoverTool\"},{\"id\":\"9075\",\"type\":\"SaveTool\"},{\"id\":\"9076\",\"type\":\"PanTool\"},{\"id\":\"9077\",\"type\":\"WheelZoomTool\"},{\"id\":\"9078\",\"type\":\"BoxZoomTool\"},{\"id\":\"9079\",\"type\":\"ResetTool\"}]},\"id\":\"9080\",\"type\":\"Toolbar\"},{\"attributes\":{\"axis_label\":\"Air Temp (F)\",\"bounds\":\"auto\",\"formatter\":{\"id\":\"9092\",\"type\":\"BasicTickFormatter\"},\"major_label_orientation\":\"horizontal\",\"plot\":{\"id\":\"9057\",\"subtype\":\"Figure\",\"type\":\"Plot\"},\"ticker\":{\"id\":\"9071\",\"type\":\"BasicTicker\"}},\"id\":\"9070\",\"type\":\"LinearAxis\"},{\"attributes\":{\"data_source\":{\"id\":\"9094\",\"type\":\"ColumnDataSource\"},\"glyph\":{\"id\":\"9097\",\"type\":\"Patch\"},\"hover_glyph\":null,\"muted_glyph\":{\"id\":\"9099\",\"type\":\"Patch\"},\"nonselection_glyph\":{\"id\":\"9098\",\"type\":\"Patch\"},\"selection_glyph\":null,\"view\":{\"id\":\"9101\",\"type\":\"CDSView\"}},\"id\":\"9100\",\"type\":\"GlyphRenderer\"},{\"attributes\":{\"plot\":null,\"text\":\"\",\"text_color\":{\"value\":\"black\"},\"text_font_size\":{\"value\":\"12pt\"}},\"id\":\"9056\",\"type\":\"Title\"},{\"attributes\":{},\"id\":\"9130\",\"type\":\"UnionRenderers\"},{\"attributes\":{},\"id\":\"9077\",\"type\":\"WheelZoomTool\"},{\"attributes\":{\"callback\":null,\"data\":{\"x\":{\"__ndarray__\":\"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\",\"dtype\":\"float64\",\"shape\":[730]},\"y\":[28,32,32,30,31,27,30,47,63,61,64,71,56,33,39,47,38,34,49,56,68,62,70,54,49,57,67,60,52,40,47,62,57,42,56,48,59,65,50,58,65,72,65,44,58,75,81,56,61,50,72,77,78,70,78,73,63,61,57,57,55,57,56,54,42,54,47,52,56,49,38,48,44,65,68,71,60,65,57,42,53,56,50,54,53,49,76,80,71,64,75,81,75,77,61,73,62,52,57,62,62,75,80,81,82,64,62,82,76,65,68,70,66,65,68,75,73,78,66,72,83,85,85,85,82,85,74,77,79,87,89,92,93,93,88,85,77,82,75,86,86,85,87,84,86,87,87,76,82,85,88,92,87,88,85,82,85,85,89,89,91,85,70,85,91,86,90,93,94,96,94,92,95,92,96,88,74,86,90,92,94,95,95,95,93,95,93,79,82,87,91,96,87,88,89,95,95,98,89,90,86,88,89,88,86,82,92,95,91,88,86,87,90,89,77,89,93,92,93,94,90,91,91,89,85,86,90,92,91,88,88,87,87,88,80,82,83,88,93,94,94,95,92,93,90,91,92,91,92,92,91,80,88,88,88,81,79,77,76,88,85,88,87,83,88,76,74,85,87,79,79,82,81,82,83,86,89,90,82,87,85,80,81,79,71,70,65,80,75,71,62,69,67,58,62,66,61,55,52,55,64,65,65,72,75,70,61,65,62,74,73,65,53,52,51,48,51,48,43,54,59,59,65,64,57,50,45,45,59,63,48,42,51,68,62,71,68,53,48,46,50,43,38,34,44,45,51,57,49,60,61,53,53,66,65,53,57,51,50,51,54,68,65,59,67,47,45,45,50,29,26,26,29,28,34,46,45,27,34,36,42,42,36,29,24,27,30,30,31,29,25,30,41,47,58,52,42,25,25,31,39,42,36,27,33,30,38,43,37,33,34,36,39,44,35,28,34,50,51,49,57,54,37,39,60,55,42,35,39,42,47,42,36,38,42,34,37,54,39,43,53,64,59,49,48,51,63,69,67,69,66,68,68,66,64,61,60,62,60,65,70,66,69,64,64,67,70,67,65,71,72,73,73,73,74,72,68,67,67,71,71,71,71,72,69,69,71,69,73,72,71,69,60,59,55,60,70,71,68,68,73,73,68,68,65,67,70,72,69,69,69,71,72,72,71,70,71,73,73,72,70,71,73,68,69,71,70,68,69,69,63,72,72,74,68,65,68,72,67,59,57,62,67,71,72,72,75,75,73,71,70,68,65,66,72,73,74,71,72,73,73,74,70,65,69,70,67,63,64,67,68,65,62,61,57,64,69,68,69,71,73,69,69,69,68,65,68,69,67,68,69,69,71,69,68,69,68,66,67,59,59,50,53,55,62,63,60,57,53,45,36,44,50,54,48,51,53,52,42,37,34,45,42,33,41,61,59,52,44,38,39,40,32,33,45,34,48,45,51,41,40,51,56,43,34,32,33,27,27,32,32,36,44,40,34,39,24,31,29,32,38,38,25,27,35,32,26,35,35,41,50,39,35,40,60,57,52,61,63,50,40,39,40,56,54,37,37,42,64,43,28,33,44,29,29,33,18,24,31,19,25,33,52,31,25,26,34,47,38,31,26,19,10,23,20,17,21,29,56,41,43,29,16,4,12,12,18,9,12,13]},\"selected\":{\"id\":\"9095\",\"type\":\"Selection\"},\"selection_policy\":{\"id\":\"9128\",\"type\":\"UnionRenderers\"}},\"id\":\"9094\",\"type\":\"ColumnDataSource\"},{\"attributes\":{\"base\":60,\"mantissas\":[1,2,5,10,15,20,30],\"max_interval\":1800000.0,\"min_interval\":1000.0,\"num_minor_ticks\":0},\"id\":\"9116\",\"type\":\"AdaptiveTicker\"}],\"root_ids\":[\"9057\"]},\"title\":\"Bokeh Application\",\"version\":\"1.0.4\"}};\n",
       "  var render_items = [{\"docid\":\"7ef3f1b0-e47c-4be9-ba1e-5aa141425961\",\"roots\":{\"9057\":\"b1fc8980-80d5-484c-992d-f76a08e03937\"}}];\n",
       "  root.Bokeh.embed.embed_items_notebook(docs_json, render_items);\n",
       "\n",
       "  }\n",
       "  if (root.Bokeh !== undefined) {\n",
       "    embed_document(root);\n",
       "  } else {\n",
       "    var attempts = 0;\n",
       "    var timer = setInterval(function(root) {\n",
       "      if (root.Bokeh !== undefined) {\n",
       "        embed_document(root);\n",
       "        clearInterval(timer);\n",
       "      }\n",
       "      attempts++;\n",
       "      if (attempts > 100) {\n",
       "        console.log(\"Bokeh: ERROR: Unable to run BokehJS code because BokehJS library is missing\");\n",
       "        clearInterval(timer);\n",
       "      }\n",
       "    }, 10, root)\n",
       "  }\n",
       "})(window);"
      ],
      "application/vnd.holoviews_exec.v0+json": "",
      "text/html": [
       "<div id='9057' style='display: table; margin: 0 auto;'>\n",
       "\n",
       "\n",
       "\n",
       "\n",
       "\n",
       "  <div class=\"bk-root\" id=\"b1fc8980-80d5-484c-992d-f76a08e03937\" data-root-id=\"9057\"></div>\n",
       "</div>"
      ],
      "text/plain": [
       ":Overlay\n",
       "   .Area.I  :Area   [DATE]   (TMIN,TMAX)\n",
       "   .Curve.I :Curve   [DATE]   (TAVG)"
      ]
     },
     "execution_count": 117,
     "metadata": {
      "application/vnd.holoviews_exec.v0+json": {
       "id": "9057"
      }
     },
     "output_type": "execute_result"
    }
   ],
   "source": [
    "dfplot = df.hvplot.area('DATE','TMIN','TMAX',alpha=0.2,grid=True) *\\\n",
    "df.hvplot('DATE','TAVG',kind='line')\n",
    "# Adjust the appearance of the plot using holoviews\n",
    "dfplot.opts(xlabel='Date',ylabel='Air Temp (F)')"
   ]
  },
  {
   "cell_type": "code",
   "execution_count": null,
   "metadata": {},
   "outputs": [],
   "source": []
  },
  {
   "cell_type": "code",
   "execution_count": null,
   "metadata": {},
   "outputs": [],
   "source": []
  }
 ],
 "metadata": {
  "kernelspec": {
   "display_name": "Python 3",
   "language": "python",
   "name": "python3"
  },
  "language_info": {
   "codemirror_mode": {
    "name": "ipython",
    "version": 3
   },
   "file_extension": ".py",
   "mimetype": "text/x-python",
   "name": "python",
   "nbconvert_exporter": "python",
   "pygments_lexer": "ipython3",
   "version": "3.6.8"
  }
 },
 "nbformat": 4,
 "nbformat_minor": 2
}
