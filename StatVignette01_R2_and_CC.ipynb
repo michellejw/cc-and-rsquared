{
 "cells": [
  {
   "cell_type": "markdown",
   "metadata": {},
   "source": [
    "# Statistical Vignettes"
   ]
  },
  {
   "cell_type": "markdown",
   "metadata": {},
   "source": [
    "## $R^2$ and Correlation Coefficient"
   ]
  },
  {
   "cell_type": "markdown",
   "metadata": {},
   "source": [
    "In this module, you'll learn about interpreting data. Specifically, you'll learn about:\n",
    "* The correlation coefficient (CC): it describes the relationship between two variables. It is a value between -1 and 1. If it's a positive number, it means that as one variable increases, the other one does too. If it's a negative number, it means that as one variable increases, the other one decreases.\n",
    "* The R-squared value ($R^2$) tells you well your data fit a model. For example, if you fit a line to your data (a linear model), the $R^2$ value tells what proportion of your data is explained by the model."
   ]
  },
  {
   "cell_type": "markdown",
   "metadata": {},
   "source": [
    "### The correlation coefficient\n",
    "\n",
    "Let's start with some example data. Here's a dataset that shows the relationship between temperature and number of ice cream cones sold."
   ]
  },
  {
   "cell_type": "code",
   "execution_count": 2,
   "metadata": {},
   "outputs": [],
   "source": [
    "# First we'll import the python modules that we'll be using\n",
    "import numpy as np\n",
    "import pandas as pd\n",
    "\n",
    "\n"
   ]
  },
  {
   "cell_type": "code",
   "execution_count": null,
   "metadata": {},
   "outputs": [],
   "source": []
  }
 ],
 "metadata": {
  "kernelspec": {
   "display_name": "Python 3",
   "language": "python",
   "name": "python3"
  },
  "language_info": {
   "codemirror_mode": {
    "name": "ipython",
    "version": 3
   },
   "file_extension": ".py",
   "mimetype": "text/x-python",
   "name": "python",
   "nbconvert_exporter": "python",
   "pygments_lexer": "ipython3",
   "version": "3.6.8"
  }
 },
 "nbformat": 4,
 "nbformat_minor": 2
}
