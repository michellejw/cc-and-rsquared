{
 "cells": [
  {
   "cell_type": "markdown",
   "metadata": {},
   "source": [
    "# Statistical Vignettes"
   ]
  },
  {
   "cell_type": "markdown",
   "metadata": {},
   "source": [
    "## $R^2$ and Correlation Coefficient"
   ]
  },
  {
   "cell_type": "markdown",
   "metadata": {},
   "source": [
    "In this module, you'll learn about interpreting data. Specifically, you'll learn about:\n",
    "* The correlation coefficient (CC): it describes the relationship between two variables. It is a value between -1 and 1. If it's a positive number, it means that as one variable increases, the other one does too. If it's a negative number, it means that as one variable increases, the other one decreases.\n",
    "* The R-squared value ($R^2$) tells you well your data fit a model. For example, if you fit a line to your data (a linear model), the $R^2$ value tells what proportion of your data is explained by the model."
   ]
  },
  {
   "cell_type": "markdown",
   "metadata": {},
   "source": [
    "### The correlation coefficient\n",
    "\n",
    "Let's start with an example to help understand the concepts. This dataset consists of two variables: temperature in degrees Farenheit and number of ice cream cones sold at Rita's Ice Cream Shop. "
   ]
  },
  {
   "cell_type": "code",
   "execution_count": 3,
   "metadata": {},
   "outputs": [
    {
     "data": {
      "text/html": [
       "<div>\n",
       "<style scoped>\n",
       "    .dataframe tbody tr th:only-of-type {\n",
       "        vertical-align: middle;\n",
       "    }\n",
       "\n",
       "    .dataframe tbody tr th {\n",
       "        vertical-align: top;\n",
       "    }\n",
       "\n",
       "    .dataframe thead th {\n",
       "        text-align: right;\n",
       "    }\n",
       "</style>\n",
       "<table border=\"1\" class=\"dataframe\">\n",
       "  <thead>\n",
       "    <tr style=\"text-align: right;\">\n",
       "      <th></th>\n",
       "      <th>Temperature</th>\n",
       "      <th>nCones</th>\n",
       "    </tr>\n",
       "  </thead>\n",
       "  <tbody>\n",
       "    <tr>\n",
       "      <th>0</th>\n",
       "      <td>53</td>\n",
       "      <td>187</td>\n",
       "    </tr>\n",
       "    <tr>\n",
       "      <th>1</th>\n",
       "      <td>95</td>\n",
       "      <td>327</td>\n",
       "    </tr>\n",
       "    <tr>\n",
       "      <th>2</th>\n",
       "      <td>26</td>\n",
       "      <td>70</td>\n",
       "    </tr>\n",
       "    <tr>\n",
       "      <th>3</th>\n",
       "      <td>62</td>\n",
       "      <td>145</td>\n",
       "    </tr>\n",
       "    <tr>\n",
       "      <th>4</th>\n",
       "      <td>54</td>\n",
       "      <td>128</td>\n",
       "    </tr>\n",
       "  </tbody>\n",
       "</table>\n",
       "</div>"
      ],
      "text/plain": [
       "   Temperature  nCones\n",
       "0           53     187\n",
       "1           95     327\n",
       "2           26      70\n",
       "3           62     145\n",
       "4           54     128"
      ]
     },
     "execution_count": 3,
     "metadata": {},
     "output_type": "execute_result"
    }
   ],
   "source": [
    "# First we'll import the python modules that we'll be using:\n",
    "import numpy as np\n",
    "import pandas as pd\n",
    "import matplotlib.pyplot as plt\n",
    "\n",
    "# Next, we load data from a file into a Pandas dataframe\n",
    "DF = pd.read_csv('icecreamdata.csv')\n",
    "temp = DF['Temperature'] # Temperature, our x variable\n",
    "cones = DF['nCones'] # Number of ice cream cones sold, our y variable\n",
    "\n",
    "# You can get an idea of what the dataframe looks like by checking DF.head\n",
    "DF.head()"
   ]
  },
  {
   "cell_type": "code",
   "execution_count": 4,
   "metadata": {},
   "outputs": [
    {
     "data": {
      "image/png": "[encoded data removed]",
      "text/plain": [
       "<Figure size 432x288 with 1 Axes>"
      ]
     },
     "metadata": {
      "needs_background": "light"
     },
     "output_type": "display_data"
    }
   ],
   "source": [
    "# We can now look at the data as a plot to get a visual sense of what's happening\n",
    "plt.plot(temp,cones,'.')\n",
    "plt.xlabel('Temperature')\n",
    "plt.ylabel('# cones sold')\n",
    "plt.show()"
   ]
  },
  {
   "cell_type": "markdown",
   "metadata": {},
   "source": [
    "Have a look at the data in the plot above. Does anything jump out at you? What can you tell about the relationship between temperature and number of ice cream cones sold just by looking at this plot?\n",
    "\n",
    "You probably can see immediately that more cones are sold when it's hotter out! But with correlation coefficient we can better quantify this relationship. \n",
    "\n",
    "The sample correlation coefficient ($r$) can be calculated using the following equation:\n",
    "\n",
    "$$ r = \\frac{n(\\sum xy) - (\\sum x) (\\sum y)}{\\sqrt{ [n\\sum x^2 - (\\sum x)^2] [n \\sum y^2 - (\\sum y^2)] }} $$\n",
    "\n",
    "where $x_i$ and $y_i$ are the individual sample points, $\\bar{x}$ and $\\bar{y}$ are the means of the $x$ and $y$ sample points, $i$ is the index, and $n$ is the total number of sample points.\n",
    "\n",
    "Let's break this equation up into parts to solve it."
   ]
  },
  {
   "cell_type": "code",
   "execution_count": 5,
   "metadata": {},
   "outputs": [],
   "source": [
    "n=len(temp)\n",
    "sumxy = sum(temp*cones)\n",
    "sumx = sum(temp)\n",
    "sumy = sum(cones)\n",
    "sumx2 = sum(temp**2)\n",
    "sumy2 = sum(cones**2)"
   ]
  },
  {
   "cell_type": "code",
   "execution_count": 6,
   "metadata": {},
   "outputs": [
    {
     "data": {
      "text/plain": [
       "0.7976274403843998"
      ]
     },
     "execution_count": 6,
     "metadata": {},
     "output_type": "execute_result"
    }
   ],
   "source": [
    "((n*sumxy) - (sumx*sumy)) / np.sqrt( ((n*sumx2) - sumx**2) * ((n*sumy2) - sumy**2) )"
   ]
  },
  {
   "cell_type": "code",
   "execution_count": null,
   "metadata": {},
   "outputs": [],
   "source": []
  }
 ],
 "metadata": {
  "kernelspec": {
   "display_name": "Python 3",
   "language": "python",
   "name": "python3"
  },
  "language_info": {
   "codemirror_mode": {
    "name": "ipython",
    "version": 3
   },
   "file_extension": ".py",
   "mimetype": "text/x-python",
   "name": "python",
   "nbconvert_exporter": "python",
   "pygments_lexer": "ipython3",
   "version": "3.7.1"
  }
 },
 "nbformat": 4,
 "nbformat_minor": 2
}
