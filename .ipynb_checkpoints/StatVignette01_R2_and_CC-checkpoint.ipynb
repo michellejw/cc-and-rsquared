{
 "cells": [
  {
   "cell_type": "markdown",
   "metadata": {},
   "source": [
    "<img src=\"https://michw.com/IMAGES/SV_logo_blues.png\" width=\"270\" align=\"left\">\n",
    "<br><br><br><br>\n",
    "\n",
    "# Correlation Coefficient and $R^2$ Metrics\n",
    "\n",
    "In this module, you'll learn about interpreting data. Specifically, you'll learn about:\n",
    "* The correlation coefficient (CC): it describes the relationship between two variables. It is a value between -1 and 1. If it's a positive number, it means that as one variable increases, the other one does too. If it's a negative number, it means that as one variable increases, the other one decreases.\n",
    "* The R-squared value ($R^2$) tells you well your data fit a model. For example, if you fit a line to your data (a linear model), the $R^2$ value tells what proportion of your data is explained by the model."
   ]
  },
  {
   "cell_type": "markdown",
   "metadata": {},
   "source": [
    "### The Correlation Coefficient\n",
    "\n",
    "<img src=\"https://michw.com/IMAGES/Rita-1_Shop.png?raw=true\" width=\"600\">\n"
   ]
  },
  {
   "cell_type": "markdown",
   "metadata": {},
   "source": [
    "This is Rita, and she owns an ice cream shop. She's measured several variables: temperature, humidity, and rainfall, along with the number of ice cream cones sold. We're going to focus in on the relationship between temperature and ice cream sales."
   ]
  },
  {
   "cell_type": "code",
   "execution_count": null,
   "metadata": {},
   "outputs": [],
   "source": [
    "# First we'll import the python modules that we'll be using:\n",
    "import numpy as np\n",
    "import pandas as pd\n",
    "import matplotlib.pyplot as plt\n",
    "from scipy import stats\n",
    "\n",
    "# Next, we load data from a file into a Pandas dataframe\n",
    "DF = pd.read_csv('icecreamdata.csv')\n",
    "temp = DF['Temperature'] # Temperature, our x variable\n",
    "cones = DF['nCones'] # Number of ice cream cones sold, our y variable\n",
    " \n",
    "# You can get an idea of what the dataframe looks like by checking DF.head\n",
    "DF.head()"
   ]
  },
  {
   "cell_type": "code",
   "execution_count": null,
   "metadata": {},
   "outputs": [],
   "source": [
    "# We can now look at the data as a plot to get a visual sense of what's happening\n",
    "plt.plot(temp,cones,'.')\n",
    "plt.xlabel('Temperature')\n",
    "plt.ylabel('# cones sold')\n",
    "plt.show()"
   ]
  },
  {
   "cell_type": "markdown",
   "metadata": {},
   "source": [
    "Have a look at the data in the plot above. Does anything jump out at you? What can you tell about the relationship between temperature and number of ice cream cones sold just by looking at this plot? Are there any points that look like they don't match the pattern?\n",
    "\n",
    "You probably can see immediately that more cones are sold when it's hotter out! But with correlation coefficient we can better quantify this relationship. The correlation coefficient is a value between 0 and 1, where 0 means that the two variables are not correlated at all, and 1 means that they are perfectly correlated.This next plot shows some examples of data that have different correlation coefficients.\n",
    "\n",
    "<img src=\"https://michw.com/IMAGES/SampleCCs_withAnnotations.png\" width=\"600\">"
   ]
  },
  {
   "cell_type": "markdown",
   "metadata": {},
   "source": [
    "The sample correlation coefficient ($CC$) can be calculated using the following equation:\n",
    "\n",
    "$$ CC = \\frac{n(\\sum xy) - (\\sum x) (\\sum y)}{\\sqrt{ [n\\sum x^2 - (\\sum x)^2] [n \\sum y^2 - (\\sum y^2)] }} $$\n",
    "\n",
    "where $x_i$ and $y_i$ are the individual sample points, $\\bar{x}$ and $\\bar{y}$ are the means of the $x$ and $y$ sample points, $i$ is the index, and $n$ is the total number of sample points.\n",
    "\n",
    "Let's break this equation up into parts to solve it."
   ]
  },
  {
   "cell_type": "code",
   "execution_count": null,
   "metadata": {},
   "outputs": [],
   "source": [
    "n=len(temp)\n",
    "sumxy = sum(temp*cones)\n",
    "sumx = sum(temp)\n",
    "sumy = sum(cones)\n",
    "sumx2 = sum(temp**2)\n",
    "sumy2 = sum(cones**2)\n",
    "\n",
    "cc = ((n*sumxy) - (sumx*sumy)) / np.sqrt( ((n*sumx2) - sumx**2) * ((n*sumy2) - sumy**2) )\n",
    "# Print the correlation coefficient:\n",
    "print('CC = %0.3f' % cc)"
   ]
  },
  {
   "cell_type": "markdown",
   "metadata": {},
   "source": [
    "This is really useful because we have a numerical way to describe how well one variable predicts another, and we can compare how correlated different datasets are relative to others. \n",
    "\n",
    "<img align=\"left\" src=\"https://michw.com/IMAGES/Rita-4_DataCC.png\" width=\"400\" >\n",
    "\n",
    "[NOTE: Update Rita's speech bubble to reflect the actual value!]"
   ]
  },
  {
   "cell_type": "markdown",
   "metadata": {},
   "source": [
    "### Regression or Fitting a line to data\n",
    "\n",
    "A very common way to understand data is to model it. This means we try to find a mathematical way to describe what might be driving the relationship betweeen different variables. This allows us to better understand that relationship and also to predict what might happen in cases where we don't have measurements. \n",
    "\n",
    "In Rita's dataset, we'd like to build a model to understand how temperature affects ice cream sales. Perhaps the simplest way to do this is to fit a straight line to the data. A straight line can be described by the following equation.\n",
    "\n",
    "$$ y = mx + b $$\n",
    "\n",
    "where:\n",
    "<br>\n",
    "$y$ is the y coordinate\n",
    "<br>\n",
    "$x$ is the x coordinate\n",
    "<br>\n",
    "$m$ is the slope of the line (i.e. the change in the y-value for a unit change in the x-value)\n",
    "<br>\n",
    "$b$ is the y intercept (i.e. where the line intersects with the y axis)\n",
    "<br>\n",
    "\n",
    "Let's go ahead and fit a line to Rita's ice cream data using a useful tool from the Scipy module, \"linregress\", which is short for linear regression."
   ]
  },
  {
   "cell_type": "code",
   "execution_count": null,
   "metadata": {},
   "outputs": [],
   "source": [
    "# Fitting a line to the data. Here we actually get a bunch of useful information \n",
    "# out of the function, but for now we care about the slope and y-intercept\n",
    "slope, intercept, r_value, p_value, std_err = stats.linregress(temp,cones)\n",
    "\n",
    "# We can then take the slope and y-intercept from the line fit, plug them into \n",
    "# the formula for a line above, and compute the best-fit value for the number \n",
    "# of cones for each of our temperate data points.\n",
    "cones_fit = (slope*temp) + intercept\n",
    "\n",
    "# Plotting the line fit\n",
    "plt.plot(temp,cones,'.') # plot the original data points\n",
    "plt.plot(temp,cones_fit,'-') # plot the new fitted data\n",
    "plt.vlines(temp,cones_fit,cones,color=(0.7, 0.7, 0.7)) # Plot the errors\n",
    "plt.xlabel('Temperature (degrees F)')\n",
    "plt.ylabel('Sales (# cones)')\n",
    "plt.show()"
   ]
  },
  {
   "cell_type": "markdown",
   "metadata": {},
   "source": [
    "In the plot above, the gray vertical lines show us the difference between the data points and our model. These differences are also called the \"errors\". When finding the best fit line, we try to minimize this error across all points."
   ]
  },
  {
   "cell_type": "markdown",
   "metadata": {},
   "source": [
    "### $R^2$: the Coefficient of Determination\n",
    "\n",
    "The $R^2$ metric tells us how well our data fit the model, and it ranges from 0 to 1. In other words: it’s the proportion of the data variation that’s explained by the model.\n",
    "\n",
    "<img src=\"https://michw.com/IMAGES/rita_r2_combographic.png\" width=\"700\">"
   ]
  },
  {
   "cell_type": "markdown",
   "metadata": {},
   "source": [
    "The R-squared metric is computed by essentially taking the ratio between the amount of variance that's explained by the model and the total variance.\n",
    "\n",
    "$$ R^2 = 1 - \\frac{\\text{Variance explained by the model}}{\\text{Total variance}} $$\n",
    "\n",
    "$$ R^2 = 1 - \\frac{  \\sum_{i=1}^n (y_i - f_i)^2  }{  \\sum_{i=1}^n (y_i - \\bar{y})^2  } $$\n",
    "<br>\n",
    "where:\n",
    "<br>\n",
    "$i$ is an index from 1 to the number of data points\n",
    "<br>\n",
    "$n$ is the number of data points\n",
    "<br>\n",
    "$y_i$ is the y-value at data point i\n",
    "<br>\n",
    "$f_i$ is the y-value of the line fit at data point i\n",
    "<br>\n",
    "$\\bar{y}$ is the mean of the y-values\n",
    "<br><br>\n",
    "Let's break it up into parts and solve for $R^2$."
   ]
  },
  {
   "cell_type": "code",
   "execution_count": null,
   "metadata": {},
   "outputs": [],
   "source": [
    "var_model = sum( (cones - cones_fit)**2 )\n",
    "var_total = sum( (cones - np.mean(cones))**2 )\n",
    "\n",
    "R2 = 1 - (var_model/var_total)\n",
    "\n",
    "print('R-squared = %0.3f' % R2)"
   ]
  },
  {
   "cell_type": "markdown",
   "metadata": {},
   "source": [
    "### Pro tips\n",
    "\n",
    "(talk about how there are easier/pythonic ways of doing these calculations, here they are)"
   ]
  },
  {
   "cell_type": "code",
   "execution_count": null,
   "metadata": {},
   "outputs": [],
   "source": [
    "# Or, you might have noticed that r_value is one of the outputs \n",
    "# generated by the linregress function above - all you need to \n",
    "# do is square it to get the R-squared value!\n",
    "\n",
    "print('R-squared, from linregress = %0.3f' % r_value**2)"
   ]
  },
  {
   "cell_type": "markdown",
   "metadata": {},
   "source": [
    "In fact, the $R^2$ value and the correlation coefficient are closely related: the $R^2$ value is actually the square of the correlation coefficient. So the \"r_value\" that was output by the *linregress* function is actually the correlation coefficient! "
   ]
  },
  {
   "cell_type": "code",
   "execution_count": null,
   "metadata": {},
   "outputs": [],
   "source": []
  }
 ],
 "metadata": {
  "kernelspec": {
   "display_name": "Python 3",
   "language": "python",
   "name": "python3"
  },
  "language_info": {
   "codemirror_mode": {
    "name": "ipython",
    "version": 3
   },
   "file_extension": ".py",
   "mimetype": "text/x-python",
   "name": "python",
   "nbconvert_exporter": "python",
   "pygments_lexer": "ipython3",
   "version": "3.7.1"
  }
 },
 "nbformat": 4,
 "nbformat_minor": 2
}
